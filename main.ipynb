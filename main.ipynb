{
  "nbformat": 4,
  "nbformat_minor": 0,
  "metadata": {
    "colab": {
      "name": "main.ipynb",
      "provenance": [],
      "collapsed_sections": [],
      "authorship_tag": "ABX9TyMV8yC/RfhUKsvyaI00HR1+",
      "include_colab_link": true
    },
    "kernelspec": {
      "name": "python3",
      "display_name": "Python 3"
    }
  },
  "cells": [
    {
      "cell_type": "markdown",
      "metadata": {
        "id": "view-in-github",
        "colab_type": "text"
      },
      "source": [
        "<a href=\"https://colab.research.google.com/github/LiquidatorCoder/MusicGenerationUsingPython/blob/master/main.ipynb\" target=\"_parent\"><img src=\"https://colab.research.google.com/assets/colab-badge.svg\" alt=\"Open In Colab\"/></a>"
      ]
    },
    {
      "cell_type": "markdown",
      "metadata": {
        "id": "0yeLotOAkcYA",
        "colab_type": "text"
      },
      "source": [
        "# Magenta Basic\n",
        "## Installing Magenta"
      ]
    },
    {
      "cell_type": "code",
      "metadata": {
        "id": "7jXMVbyqjvRa",
        "colab_type": "code",
        "colab": {}
      },
      "source": [
        "pip install magenta==0.4.0"
      ],
      "execution_count": 0,
      "outputs": []
    },
    {
      "cell_type": "markdown",
      "metadata": {
        "id": "BYJuBcJpsw2d",
        "colab_type": "text"
      },
      "source": [
        "## Mounting Drive"
      ]
    },
    {
      "cell_type": "code",
      "metadata": {
        "id": "AePgR86AkmjN",
        "colab_type": "code",
        "outputId": "2bd8ffe3-0d48-4694-e475-c5d0196186d0",
        "colab": {
          "base_uri": "https://localhost:8080/",
          "height": 50
        }
      },
      "source": [
        "from google.colab import drive\n",
        "drive.mount('/content/gdrive')"
      ],
      "execution_count": 0,
      "outputs": [
        {
          "output_type": "stream",
          "text": [
            "Drive already mounted at /content/gdrive; to attempt to forcibly remount, call drive.mount(\"/content/gdrive\", force_remount=True).\n",
            "ls: cannot access '/content/gdrive/My Drive/*.mag': No such file or directory\n"
          ],
          "name": "stdout"
        }
      ]
    },
    {
      "cell_type": "markdown",
      "metadata": {
        "id": "I2UcHmRCs22c",
        "colab_type": "text"
      },
      "source": [
        "## Generating MIDI Files from Loopback_RNN Model\n",
        "The drive must contain loopback_rnn.mag file for this to work."
      ]
    },
    {
      "cell_type": "code",
      "metadata": {
        "id": "qInnCFF9nsdQ",
        "colab_type": "code",
        "outputId": "0763cff7-90b4-4864-f3ac-3531cb43a10e",
        "colab": {
          "base_uri": "https://localhost:8080/",
          "height": 1000
        }
      },
      "source": [
        "# !BUNDLE_PATH='/content/gdrive/My Drive/lookback_rnn.mag'\n",
        "# !OUTPUT_PATH='/content/gdrive/My Drive/'\n",
        "# !CONFIG='lookback_rnn'\n",
        "!melody_rnn_generate --config='lookback_rnn' --bundle_file='/content/gdrive/My Drive/lookback_rnn.mag' --output_dir='/content/gdrive/My Drive/' --num_outputs=10 --num_steps=128 --primer_melody='[60]'"
      ],
      "execution_count": 0,
      "outputs": [
        {
          "output_type": "stream",
          "text": [
            "gdrive\tsample_data\n",
            "WARNING:tensorflow:From /usr/local/lib/python3.6/dist-packages/magenta/pipelines/statistics.py:131: The name tf.logging.info is deprecated. Please use tf.compat.v1.logging.info instead.\n",
            "\n",
            "WARNING:tensorflow:From /usr/local/lib/python3.6/dist-packages/magenta/music/note_sequence_io.py:60: The name tf.python_io.TFRecordWriter is deprecated. Please use tf.io.TFRecordWriter instead.\n",
            "\n",
            "WARNING:tensorflow:\n",
            "The TensorFlow contrib module will not be included in TensorFlow 2.0.\n",
            "For more information, please see:\n",
            "  * https://github.com/tensorflow/community/blob/master/rfcs/20180907-contrib-sunset.md\n",
            "  * https://github.com/tensorflow/addons\n",
            "  * https://github.com/tensorflow/io (for I/O related ops)\n",
            "If you depend on functionality not listed there, please file an issue.\n",
            "\n",
            "WARNING:tensorflow:From /usr/local/lib/python3.6/dist-packages/magenta/models/melody_rnn/melody_rnn_generate.py:248: The name tf.app.run is deprecated. Please use tf.compat.v1.app.run instead.\n",
            "\n",
            "WARNING:tensorflow:From /usr/local/lib/python3.6/dist-packages/magenta/models/melody_rnn/melody_rnn_generate.py:219: The name tf.logging.set_verbosity is deprecated. Please use tf.compat.v1.logging.set_verbosity instead.\n",
            "\n",
            "W0130 18:23:11.733924 140331862562688 module_wrapper.py:139] From /usr/local/lib/python3.6/dist-packages/magenta/models/melody_rnn/melody_rnn_generate.py:219: The name tf.logging.set_verbosity is deprecated. Please use tf.compat.v1.logging.set_verbosity instead.\n",
            "\n",
            "WARNING:tensorflow:From /usr/local/lib/python3.6/dist-packages/magenta/music/sequence_generator_bundle.py:30: The name tf.gfile.Open is deprecated. Please use tf.io.gfile.GFile instead.\n",
            "\n",
            "W0130 18:23:11.734202 140331862562688 module_wrapper.py:139] From /usr/local/lib/python3.6/dist-packages/magenta/music/sequence_generator_bundle.py:30: The name tf.gfile.Open is deprecated. Please use tf.io.gfile.GFile instead.\n",
            "\n",
            "WARNING:tensorflow:From /usr/local/lib/python3.6/dist-packages/magenta/models/melody_rnn/melody_rnn_generate.py:145: The name tf.gfile.Exists is deprecated. Please use tf.io.gfile.exists instead.\n",
            "\n",
            "W0130 18:23:11.780617 140331862562688 module_wrapper.py:139] From /usr/local/lib/python3.6/dist-packages/magenta/models/melody_rnn/melody_rnn_generate.py:145: The name tf.gfile.Exists is deprecated. Please use tf.io.gfile.exists instead.\n",
            "\n",
            "WARNING:tensorflow:From /usr/local/lib/python3.6/dist-packages/magenta/models/melody_rnn/melody_rnn_generate.py:199: The name tf.logging.debug is deprecated. Please use tf.compat.v1.logging.debug instead.\n",
            "\n",
            "W0130 18:23:11.781291 140331862562688 module_wrapper.py:139] From /usr/local/lib/python3.6/dist-packages/magenta/models/melody_rnn/melody_rnn_generate.py:199: The name tf.logging.debug is deprecated. Please use tf.compat.v1.logging.debug instead.\n",
            "\n",
            "WARNING:tensorflow:From /usr/local/lib/python3.6/dist-packages/magenta/music/model.py:69: The name tf.Session is deprecated. Please use tf.compat.v1.Session instead.\n",
            "\n",
            "W0130 18:23:11.815795 140331862562688 module_wrapper.py:139] From /usr/local/lib/python3.6/dist-packages/magenta/music/model.py:69: The name tf.Session is deprecated. Please use tf.compat.v1.Session instead.\n",
            "\n",
            "2020-01-30 18:23:11.817226: I tensorflow/stream_executor/platform/default/dso_loader.cc:44] Successfully opened dynamic library libcuda.so.1\n",
            "2020-01-30 18:23:11.819833: E tensorflow/stream_executor/cuda/cuda_driver.cc:318] failed call to cuInit: CUDA_ERROR_NO_DEVICE: no CUDA-capable device is detected\n",
            "2020-01-30 18:23:11.819885: I tensorflow/stream_executor/cuda/cuda_diagnostics.cc:156] kernel driver does not appear to be running on this host (ea6d2a46e29b): /proc/driver/nvidia/version does not exist\n",
            "2020-01-30 18:23:11.832285: I tensorflow/core/platform/profile_utils/cpu_utils.cc:94] CPU Frequency: 2300000000 Hz\n",
            "2020-01-30 18:23:11.835642: I tensorflow/compiler/xla/service/service.cc:168] XLA service 0x626afc0 initialized for platform Host (this does not guarantee that XLA will be used). Devices:\n",
            "2020-01-30 18:23:11.835685: I tensorflow/compiler/xla/service/service.cc:176]   StreamExecutor device (0): Host, Default Version\n",
            "WARNING:tensorflow:From /usr/local/lib/python3.6/dist-packages/magenta/music/model.py:70: The name tf.train.import_meta_graph is deprecated. Please use tf.compat.v1.train.import_meta_graph instead.\n",
            "\n",
            "W0130 18:23:11.839977 140331862562688 module_wrapper.py:139] From /usr/local/lib/python3.6/dist-packages/magenta/music/model.py:70: The name tf.train.import_meta_graph is deprecated. Please use tf.compat.v1.train.import_meta_graph instead.\n",
            "\n",
            "2020-01-30 18:23:11.857030: W tensorflow/core/framework/op_def_util.cc:357] Op TensorArray is deprecated. It will cease to work in GraphDef version 16. Use TensorArrayV3.\n",
            "2020-01-30 18:23:11.857262: W tensorflow/core/framework/op_def_util.cc:357] Op TensorArrayScatter is deprecated. It will cease to work in GraphDef version 19. Use TensorArrayGradV3.\n",
            "2020-01-30 18:23:11.857509: W tensorflow/core/framework/op_def_util.cc:357] Op TensorArrayRead is deprecated. It will cease to work in GraphDef version 16. Use TensorArrayReadV3.\n",
            "2020-01-30 18:23:11.858313: W tensorflow/core/framework/op_def_util.cc:357] Op TensorArrayWrite is deprecated. It will cease to work in GraphDef version 16. Use TensorArrayWriteV3.\n",
            "2020-01-30 18:23:11.858449: W tensorflow/core/framework/op_def_util.cc:357] Op TensorArraySize is deprecated. It will cease to work in GraphDef version 16. Use TensorArraySizeV3.\n",
            "2020-01-30 18:23:11.858569: W tensorflow/core/framework/op_def_util.cc:357] Op TensorArrayGather is deprecated. It will cease to work in GraphDef version 16. Use TensorArrayGatherV3.\n",
            "WARNING:tensorflow:The saved meta_graph is possibly from an older release:\n",
            "'model_variables' collection should be of type 'byte_list', but instead is of type 'node_list'.\n",
            "W0130 18:23:11.887727 140331862562688 meta_graph.py:887] The saved meta_graph is possibly from an older release:\n",
            "'model_variables' collection should be of type 'byte_list', but instead is of type 'node_list'.\n",
            "INFO:tensorflow:Restoring parameters from /tmp/tmpakx9wgri/model.ckpt\n",
            "I0130 18:23:11.889545 140331862562688 saver.py:1284] Restoring parameters from /tmp/tmpakx9wgri/model.ckpt\n",
            "WARNING:tensorflow:From /usr/local/lib/python3.6/dist-packages/magenta/music/sequence_generator.py:159: The name tf.gfile.DeleteRecursively is deprecated. Please use tf.io.gfile.rmtree instead.\n",
            "\n",
            "W0130 18:23:12.020046 140331862562688 module_wrapper.py:139] From /usr/local/lib/python3.6/dist-packages/magenta/music/sequence_generator.py:159: The name tf.gfile.DeleteRecursively is deprecated. Please use tf.io.gfile.rmtree instead.\n",
            "\n",
            "INFO:tensorflow:Beam search yields sequence with log-likelihood: -153.602005 \n",
            "I0130 18:23:12.429773 140331862562688 events_rnn_model.py:381] Beam search yields sequence with log-likelihood: -153.602005 \n",
            "WARNING:tensorflow:From /usr/local/lib/python3.6/dist-packages/magenta/music/midi_io.py:214: The name tf.gfile.Copy is deprecated. Please use tf.io.gfile.copy instead.\n",
            "\n",
            "W0130 18:23:12.435809 140331862562688 module_wrapper.py:139] From /usr/local/lib/python3.6/dist-packages/magenta/music/midi_io.py:214: The name tf.gfile.Copy is deprecated. Please use tf.io.gfile.copy instead.\n",
            "\n",
            "INFO:tensorflow:Beam search yields sequence with log-likelihood: -97.479340 \n",
            "I0130 18:23:12.683648 140331862562688 events_rnn_model.py:381] Beam search yields sequence with log-likelihood: -97.479340 \n",
            "INFO:tensorflow:Beam search yields sequence with log-likelihood: -66.359161 \n",
            "I0130 18:23:12.924955 140331862562688 events_rnn_model.py:381] Beam search yields sequence with log-likelihood: -66.359161 \n",
            "INFO:tensorflow:Beam search yields sequence with log-likelihood: -87.750633 \n",
            "I0130 18:23:13.178699 140331862562688 events_rnn_model.py:381] Beam search yields sequence with log-likelihood: -87.750633 \n",
            "INFO:tensorflow:Beam search yields sequence with log-likelihood: -134.626984 \n",
            "I0130 18:23:13.426248 140331862562688 events_rnn_model.py:381] Beam search yields sequence with log-likelihood: -134.626984 \n",
            "INFO:tensorflow:Beam search yields sequence with log-likelihood: -55.005451 \n",
            "I0130 18:23:13.677886 140331862562688 events_rnn_model.py:381] Beam search yields sequence with log-likelihood: -55.005451 \n",
            "INFO:tensorflow:Beam search yields sequence with log-likelihood: -103.720345 \n",
            "I0130 18:23:13.929488 140331862562688 events_rnn_model.py:381] Beam search yields sequence with log-likelihood: -103.720345 \n",
            "INFO:tensorflow:Beam search yields sequence with log-likelihood: -153.125854 \n",
            "I0130 18:23:14.192588 140331862562688 events_rnn_model.py:381] Beam search yields sequence with log-likelihood: -153.125854 \n",
            "INFO:tensorflow:Beam search yields sequence with log-likelihood: -49.331196 \n",
            "I0130 18:23:14.434769 140331862562688 events_rnn_model.py:381] Beam search yields sequence with log-likelihood: -49.331196 \n",
            "INFO:tensorflow:Beam search yields sequence with log-likelihood: -97.944115 \n",
            "I0130 18:23:14.683907 140331862562688 events_rnn_model.py:381] Beam search yields sequence with log-likelihood: -97.944115 \n",
            "INFO:tensorflow:Wrote 10 MIDI files to /content/gdrive/My Drive/\n",
            "I0130 18:23:14.689800 140331862562688 melody_rnn_generate.py:214] Wrote 10 MIDI files to /content/gdrive/My Drive/\n"
          ],
          "name": "stdout"
        }
      ]
    }
  ]
}